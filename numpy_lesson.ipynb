{
 "cells": [
  {
   "cell_type": "markdown",
   "id": "7b7b1f0a",
   "metadata": {},
   "source": [
    "# Numpy"
   ]
  },
  {
   "cell_type": "markdown",
   "id": "55a9908c",
   "metadata": {},
   "source": [
    "https://numpy.org/"
   ]
  },
  {
   "cell_type": "markdown",
   "id": "440bda83",
   "metadata": {},
   "source": [
    "## What is it? \n",
    "- Numpy is a Python library used for working with arrays\n",
    "- Numpy is the fundamental package for scientific computing in Python\n",
    "\n",
    "\n",
    "## Why do we care? \n",
    "- Numpy is one of the main reasons why Python is so powerful and popular for scientific computing\n",
    "- Super fast. Numpy arrays are implemented in C, which makes numpy very fast.\n",
    "- The arrays allows for vectorized operations"
   ]
  },
  {
   "cell_type": "markdown",
   "id": "03c48268",
   "metadata": {},
   "source": [
    "## Show us! "
   ]
  },
  {
   "cell_type": "markdown",
   "id": "9038f254",
   "metadata": {},
   "source": [
    "### Create a 1D array"
   ]
  },
  {
   "cell_type": "markdown",
   "id": "d0f99731",
   "metadata": {},
   "source": [
    "#### create a list\n",
    "format: list()"
   ]
  },
  {
   "cell_type": "code",
   "execution_count": 1,
   "id": "f15cdc69",
   "metadata": {},
   "outputs": [],
   "source": [
    "#create a list\n",
    "my_list = [1,2,3,4]"
   ]
  },
  {
   "cell_type": "code",
   "execution_count": 2,
   "id": "74149412",
   "metadata": {},
   "outputs": [
    {
     "data": {
      "text/plain": [
       "list"
      ]
     },
     "execution_count": 2,
     "metadata": {},
     "output_type": "execute_result"
    }
   ],
   "source": [
    "#whats the type\n",
    "type(my_list)"
   ]
  },
  {
   "cell_type": "code",
   "execution_count": 459,
   "id": "04eaae7c",
   "metadata": {},
   "outputs": [],
   "source": [
    "#what is dtype\n",
    "# my_list.dtype\n",
    "# list doesn't have dtype function"
   ]
  },
  {
   "cell_type": "code",
   "execution_count": 460,
   "id": "597fa063",
   "metadata": {},
   "outputs": [],
   "source": [
    "#whats the shape\n",
    "# my_list.shape\n",
    "# list doesn't have shape function"
   ]
  },
  {
   "cell_type": "markdown",
   "id": "778135e3",
   "metadata": {},
   "source": [
    "#### create an array\n",
    "format: np.array()"
   ]
  },
  {
   "cell_type": "code",
   "execution_count": 3,
   "id": "3d729e6a",
   "metadata": {},
   "outputs": [],
   "source": [
    "#import numpy\n",
    "import numpy as np"
   ]
  },
  {
   "cell_type": "code",
   "execution_count": 4,
   "id": "6db8179d",
   "metadata": {},
   "outputs": [],
   "source": [
    "#create the array\n",
    "my_array = np.array(my_list)"
   ]
  },
  {
   "cell_type": "code",
   "execution_count": 5,
   "id": "450160cd",
   "metadata": {},
   "outputs": [
    {
     "data": {
      "text/plain": [
       "numpy.ndarray"
      ]
     },
     "execution_count": 5,
     "metadata": {},
     "output_type": "execute_result"
    }
   ],
   "source": [
    "#whats the type\n",
    "type(my_array)"
   ]
  },
  {
   "cell_type": "code",
   "execution_count": 6,
   "id": "df625332",
   "metadata": {},
   "outputs": [
    {
     "data": {
      "text/plain": [
       "(4,)"
      ]
     },
     "execution_count": 6,
     "metadata": {},
     "output_type": "execute_result"
    }
   ],
   "source": [
    "#whats the shape\n",
    "my_array.shape"
   ]
  },
  {
   "cell_type": "code",
   "execution_count": 7,
   "id": "2c829463",
   "metadata": {},
   "outputs": [
    {
     "data": {
      "text/plain": [
       "dtype('int64')"
      ]
     },
     "execution_count": 7,
     "metadata": {},
     "output_type": "execute_result"
    }
   ],
   "source": [
    "my_array.dtype"
   ]
  },
  {
   "cell_type": "markdown",
   "id": "cf4bf9dd",
   "metadata": {},
   "source": [
    "#### access elements of our new array"
   ]
  },
  {
   "cell_type": "code",
   "execution_count": 8,
   "id": "39cadfdc",
   "metadata": {},
   "outputs": [
    {
     "data": {
      "text/plain": [
       "array([1, 2, 3, 4])"
      ]
     },
     "execution_count": 8,
     "metadata": {},
     "output_type": "execute_result"
    }
   ],
   "source": [
    "my_array"
   ]
  },
  {
   "cell_type": "code",
   "execution_count": 9,
   "id": "cb3fe38c",
   "metadata": {},
   "outputs": [
    {
     "data": {
      "text/plain": [
       "1"
      ]
     },
     "execution_count": 9,
     "metadata": {},
     "output_type": "execute_result"
    }
   ],
   "source": [
    "my_array[0]"
   ]
  },
  {
   "cell_type": "code",
   "execution_count": 10,
   "id": "49805962",
   "metadata": {},
   "outputs": [
    {
     "data": {
      "text/plain": [
       "4"
      ]
     },
     "execution_count": 10,
     "metadata": {},
     "output_type": "execute_result"
    }
   ],
   "source": [
    "my_array[-1]"
   ]
  },
  {
   "cell_type": "markdown",
   "id": "9cad9417",
   "metadata": {},
   "source": [
    "#### slice the array"
   ]
  },
  {
   "cell_type": "code",
   "execution_count": 11,
   "id": "69ed99ed",
   "metadata": {},
   "outputs": [
    {
     "data": {
      "text/plain": [
       "array([3, 4])"
      ]
     },
     "execution_count": 11,
     "metadata": {},
     "output_type": "execute_result"
    }
   ],
   "source": [
    "my_array[2:] #inclusive for first element"
   ]
  },
  {
   "cell_type": "code",
   "execution_count": 13,
   "id": "848128b8",
   "metadata": {},
   "outputs": [
    {
     "data": {
      "text/plain": [
       "array([1, 2])"
      ]
     },
     "execution_count": 13,
     "metadata": {},
     "output_type": "execute_result"
    }
   ],
   "source": [
    "my_array[:2] #exclusive for last element"
   ]
  },
  {
   "cell_type": "code",
   "execution_count": 15,
   "id": "91fb45bc",
   "metadata": {},
   "outputs": [
    {
     "data": {
      "text/plain": [
       "array([2, 3])"
      ]
     },
     "execution_count": 15,
     "metadata": {},
     "output_type": "execute_result"
    }
   ],
   "source": [
    "my_array[1:3]"
   ]
  },
  {
   "cell_type": "markdown",
   "id": "4e8e8e73",
   "metadata": {},
   "source": [
    "#### create an array from 1 to 100"
   ]
  },
  {
   "cell_type": "code",
   "execution_count": 17,
   "id": "ae0d8f6f",
   "metadata": {},
   "outputs": [],
   "source": [
    "#np.array(?)\n",
    "a = np.array(range(1,101))"
   ]
  },
  {
   "cell_type": "code",
   "execution_count": 18,
   "id": "2699c6a4",
   "metadata": {},
   "outputs": [
    {
     "data": {
      "text/plain": [
       "46"
      ]
     },
     "execution_count": 18,
     "metadata": {},
     "output_type": "execute_result"
    }
   ],
   "source": [
    "#access single element\n",
    "a[45]"
   ]
  },
  {
   "cell_type": "code",
   "execution_count": 20,
   "id": "5c69fc7f",
   "metadata": {},
   "outputs": [
    {
     "data": {
      "text/plain": [
       "98"
      ]
     },
     "execution_count": 20,
     "metadata": {},
     "output_type": "execute_result"
    }
   ],
   "source": [
    "a[-3]"
   ]
  },
  {
   "cell_type": "code",
   "execution_count": 21,
   "id": "5f8d7c71",
   "metadata": {},
   "outputs": [
    {
     "data": {
      "text/plain": [
       "array([46, 47, 48, 49, 50, 51, 52, 53, 54, 55])"
      ]
     },
     "execution_count": 21,
     "metadata": {},
     "output_type": "execute_result"
    }
   ],
   "source": [
    "#slice the array! \n",
    "a[45:55]"
   ]
  },
  {
   "cell_type": "markdown",
   "id": "9dadb768",
   "metadata": {},
   "source": [
    "### Create a 2D array"
   ]
  },
  {
   "cell_type": "code",
   "execution_count": 27,
   "id": "4cfd2e1c",
   "metadata": {},
   "outputs": [
    {
     "data": {
      "text/plain": [
       "[[1, 2, 3], [4, 5, 6], [7, 8, 9], [10, 11, 12]]"
      ]
     },
     "execution_count": 27,
     "metadata": {},
     "output_type": "execute_result"
    }
   ],
   "source": [
    "#build a list of lists\n",
    "matrix = [[1,2,3],\n",
    "[4,5,6],\n",
    "[7,8,9],\n",
    "[10,11,12]]\n",
    "matrix"
   ]
  },
  {
   "cell_type": "code",
   "execution_count": 23,
   "id": "f89755f1",
   "metadata": {},
   "outputs": [
    {
     "data": {
      "text/plain": [
       "list"
      ]
     },
     "execution_count": 23,
     "metadata": {},
     "output_type": "execute_result"
    }
   ],
   "source": [
    "type(matrix)"
   ]
  },
  {
   "cell_type": "code",
   "execution_count": 28,
   "id": "dad05056",
   "metadata": {},
   "outputs": [
    {
     "data": {
      "text/plain": [
       "array([[ 1,  2,  3],\n",
       "       [ 4,  5,  6],\n",
       "       [ 7,  8,  9],\n",
       "       [10, 11, 12]])"
      ]
     },
     "execution_count": 28,
     "metadata": {},
     "output_type": "execute_result"
    }
   ],
   "source": [
    "#turn it into an array! \n",
    "matrix_array = np.array(matrix)\n",
    "matrix_array"
   ]
  },
  {
   "cell_type": "code",
   "execution_count": 26,
   "id": "aed9eab5",
   "metadata": {},
   "outputs": [
    {
     "data": {
      "text/plain": [
       "numpy.ndarray"
      ]
     },
     "execution_count": 26,
     "metadata": {},
     "output_type": "execute_result"
    }
   ],
   "source": [
    "#type\n",
    "type(matrix_array)"
   ]
  },
  {
   "cell_type": "code",
   "execution_count": 29,
   "id": "e2d2b36d",
   "metadata": {},
   "outputs": [
    {
     "data": {
      "text/plain": [
       "(4, 3)"
      ]
     },
     "execution_count": 29,
     "metadata": {},
     "output_type": "execute_result"
    }
   ],
   "source": [
    "matrix_array.shape"
   ]
  },
  {
   "cell_type": "markdown",
   "id": "94098dd1",
   "metadata": {},
   "source": [
    "#### access elements"
   ]
  },
  {
   "cell_type": "code",
   "execution_count": 30,
   "id": "0893d321",
   "metadata": {},
   "outputs": [
    {
     "data": {
      "text/plain": [
       "array([1, 2, 3])"
      ]
     },
     "execution_count": 30,
     "metadata": {},
     "output_type": "execute_result"
    }
   ],
   "source": [
    "matrix_array[0]"
   ]
  },
  {
   "cell_type": "code",
   "execution_count": 31,
   "id": "fc8200c4",
   "metadata": {},
   "outputs": [
    {
     "data": {
      "text/plain": [
       "2"
      ]
     },
     "execution_count": 31,
     "metadata": {},
     "output_type": "execute_result"
    }
   ],
   "source": [
    "matrix_array[0][1]"
   ]
  },
  {
   "cell_type": "code",
   "execution_count": 36,
   "id": "ab6b7915",
   "metadata": {},
   "outputs": [
    {
     "data": {
      "text/plain": [
       "array([[ 4,  5,  6],\n",
       "       [ 7,  8,  9],\n",
       "       [10, 11, 12]])"
      ]
     },
     "execution_count": 36,
     "metadata": {},
     "output_type": "execute_result"
    }
   ],
   "source": [
    "matrix_array[1:]"
   ]
  },
  {
   "cell_type": "markdown",
   "id": "60757d69",
   "metadata": {},
   "source": [
    "### Descriptive Stats"
   ]
  },
  {
   "cell_type": "code",
   "execution_count": 37,
   "id": "502f7cb5",
   "metadata": {},
   "outputs": [
    {
     "data": {
      "text/plain": [
       "1"
      ]
     },
     "execution_count": 37,
     "metadata": {},
     "output_type": "execute_result"
    }
   ],
   "source": [
    "a.min()"
   ]
  },
  {
   "cell_type": "code",
   "execution_count": 40,
   "id": "00136499",
   "metadata": {},
   "outputs": [
    {
     "data": {
      "text/plain": [
       "(100, 50.5, 5050)"
      ]
     },
     "execution_count": 40,
     "metadata": {},
     "output_type": "execute_result"
    }
   ],
   "source": [
    "a.max(), a.mean(), a.sum()"
   ]
  },
  {
   "cell_type": "markdown",
   "id": "a094e496",
   "metadata": {},
   "source": [
    "#### using methods: the method is called on the numpy object"
   ]
  },
  {
   "cell_type": "code",
   "execution_count": 42,
   "id": "d464bd47",
   "metadata": {},
   "outputs": [
    {
     "data": {
      "text/plain": [
       "1"
      ]
     },
     "execution_count": 42,
     "metadata": {},
     "output_type": "execute_result"
    }
   ],
   "source": [
    "np.min(a)"
   ]
  },
  {
   "cell_type": "code",
   "execution_count": 43,
   "id": "150e1494",
   "metadata": {},
   "outputs": [
    {
     "data": {
      "text/plain": [
       "100"
      ]
     },
     "execution_count": 43,
     "metadata": {},
     "output_type": "execute_result"
    }
   ],
   "source": [
    "np.max(a)"
   ]
  },
  {
   "cell_type": "code",
   "execution_count": 44,
   "id": "afe12429",
   "metadata": {},
   "outputs": [
    {
     "data": {
      "text/plain": [
       "50.5"
      ]
     },
     "execution_count": 44,
     "metadata": {},
     "output_type": "execute_result"
    }
   ],
   "source": [
    "np.mean(a)"
   ]
  },
  {
   "cell_type": "markdown",
   "id": "6d77326c",
   "metadata": {},
   "source": [
    "#### using functions: using numpy to call functions"
   ]
  },
  {
   "cell_type": "code",
   "execution_count": 213,
   "id": "3146004d",
   "metadata": {},
   "outputs": [
    {
     "data": {
      "text/plain": [
       "100"
      ]
     },
     "execution_count": 213,
     "metadata": {},
     "output_type": "execute_result"
    }
   ],
   "source": [
    "np.max(a)"
   ]
  },
  {
   "cell_type": "code",
   "execution_count": 214,
   "id": "b2e69ed5",
   "metadata": {},
   "outputs": [
    {
     "data": {
      "text/plain": [
       "28.86607004772212"
      ]
     },
     "execution_count": 214,
     "metadata": {},
     "output_type": "execute_result"
    }
   ],
   "source": [
    "np.std(a)"
   ]
  },
  {
   "cell_type": "code",
   "execution_count": 215,
   "id": "d022f074",
   "metadata": {},
   "outputs": [
    {
     "data": {
      "text/plain": [
       "50.5"
      ]
     },
     "execution_count": 215,
     "metadata": {},
     "output_type": "execute_result"
    }
   ],
   "source": [
    "np.mean(a)"
   ]
  },
  {
   "cell_type": "code",
   "execution_count": 216,
   "id": "921e3e98",
   "metadata": {},
   "outputs": [
    {
     "data": {
      "text/plain": [
       "5050"
      ]
     },
     "execution_count": 216,
     "metadata": {},
     "output_type": "execute_result"
    }
   ],
   "source": [
    "np.sum(a)"
   ]
  },
  {
   "cell_type": "markdown",
   "id": "4a2246aa",
   "metadata": {},
   "source": [
    "### Array of Booleans! "
   ]
  },
  {
   "cell_type": "markdown",
   "id": "9fdc082a",
   "metadata": {},
   "source": [
    "### Boolean Masks"
   ]
  },
  {
   "cell_type": "markdown",
   "id": "e786d45e",
   "metadata": {},
   "source": [
    "1. create an array\n",
    "2. make a list of booleans (mask)\n",
    "3. combine\n",
    "\n",
    "    format: array [ list of booleans ] "
   ]
  },
  {
   "cell_type": "code",
   "execution_count": 45,
   "id": "94edffd1",
   "metadata": {},
   "outputs": [
    {
     "data": {
      "text/plain": [
       "array([1, 2, 3, 4])"
      ]
     },
     "execution_count": 45,
     "metadata": {},
     "output_type": "execute_result"
    }
   ],
   "source": [
    "#pull back our small array\n",
    "my_array"
   ]
  },
  {
   "cell_type": "code",
   "execution_count": 51,
   "id": "bd64c3b8",
   "metadata": {},
   "outputs": [],
   "source": [
    "#make list of booleans aka our mask\n",
    "mask = [True, False, False, True]"
   ]
  },
  {
   "cell_type": "code",
   "execution_count": 53,
   "id": "3afba1d2",
   "metadata": {},
   "outputs": [
    {
     "data": {
      "text/plain": [
       "array([1, 4])"
      ]
     },
     "execution_count": 53,
     "metadata": {},
     "output_type": "execute_result"
    }
   ],
   "source": [
    "#combine them \n",
    "my_array[mask] #returns items where the mask is true\n",
    "# mask needs to be same size as array elements"
   ]
  },
  {
   "cell_type": "markdown",
   "id": "ad2e4168",
   "metadata": {},
   "source": [
    "#### how else can we get our array of boolean values?"
   ]
  },
  {
   "cell_type": "code",
   "execution_count": 54,
   "id": "29ddfe04",
   "metadata": {},
   "outputs": [
    {
     "data": {
      "text/plain": [
       "array([1, 2, 3, 4])"
      ]
     },
     "execution_count": 54,
     "metadata": {},
     "output_type": "execute_result"
    }
   ],
   "source": [
    "my_array"
   ]
  },
  {
   "cell_type": "code",
   "execution_count": 55,
   "id": "58cba511",
   "metadata": {},
   "outputs": [
    {
     "data": {
      "text/plain": [
       "array([False, False, False,  True])"
      ]
     },
     "execution_count": 55,
     "metadata": {},
     "output_type": "execute_result"
    }
   ],
   "source": [
    "#write a conditional with the array\n",
    "my_array == 4"
   ]
  },
  {
   "cell_type": "code",
   "execution_count": 75,
   "id": "2ad92924",
   "metadata": {},
   "outputs": [
    {
     "data": {
      "text/plain": [
       "array([ True,  True,  True, False])"
      ]
     },
     "execution_count": 75,
     "metadata": {},
     "output_type": "execute_result"
    }
   ],
   "source": [
    "mask = my_array < 4\n",
    "mask"
   ]
  },
  {
   "cell_type": "code",
   "execution_count": 60,
   "id": "7be6a314",
   "metadata": {},
   "outputs": [
    {
     "data": {
      "text/plain": [
       "array([1, 2, 3])"
      ]
     },
     "execution_count": 60,
     "metadata": {},
     "output_type": "execute_result"
    }
   ],
   "source": [
    "my_array[mask]"
   ]
  },
  {
   "cell_type": "code",
   "execution_count": 79,
   "id": "a6138b13",
   "metadata": {},
   "outputs": [
    {
     "data": {
      "text/plain": [
       "array([False, False, False, False, False, False, False, False, False,\n",
       "       False, False, False, False, False, False, False, False, False,\n",
       "       False, False, False, False, False, False, False, False, False,\n",
       "       False, False, False, False, False, False, False, False, False,\n",
       "       False, False, False, False, False, False, False, False, False,\n",
       "       False,  True, False,  True, False,  True, False,  True, False,\n",
       "        True, False,  True, False,  True, False,  True, False,  True,\n",
       "       False,  True, False,  True, False,  True, False,  True, False,\n",
       "        True, False,  True, False,  True, False,  True, False,  True,\n",
       "       False,  True, False,  True, False,  True, False,  True, False,\n",
       "        True, False,  True, False,  True, False,  True, False,  True,\n",
       "       False])"
      ]
     },
     "execution_count": 79,
     "metadata": {},
     "output_type": "execute_result"
    }
   ],
   "source": [
    "mask_a = (a % 2 == 1) & (a > 45)\n",
    "mask_a"
   ]
  },
  {
   "cell_type": "code",
   "execution_count": 62,
   "id": "92d7c0d4",
   "metadata": {},
   "outputs": [
    {
     "data": {
      "text/plain": [
       "array([ 1,  3,  5,  7,  9, 11, 13, 15, 17, 19, 21, 23, 25, 27, 29, 31, 33,\n",
       "       35, 37, 39, 41, 43, 45, 47, 49, 51, 53, 55, 57, 59, 61, 63, 65, 67,\n",
       "       69, 71, 73, 75, 77, 79, 81, 83, 85, 87, 89, 91, 93, 95, 97, 99])"
      ]
     },
     "execution_count": 62,
     "metadata": {},
     "output_type": "execute_result"
    }
   ],
   "source": [
    "a[mask_a]"
   ]
  },
  {
   "cell_type": "code",
   "execution_count": null,
   "id": "0d0b5443",
   "metadata": {},
   "outputs": [],
   "source": [
    "# if we want to make multiple conditions with an array\n",
    "# we MUST USE & and | INSTEAD OF and/or"
   ]
  },
  {
   "cell_type": "markdown",
   "id": "f1851d3b",
   "metadata": {},
   "source": [
    "#### make and apply our boolean mask"
   ]
  },
  {
   "cell_type": "code",
   "execution_count": 231,
   "id": "8b5b5d94",
   "metadata": {},
   "outputs": [
    {
     "data": {
      "text/plain": [
       "array([False, False, False,  True, False])"
      ]
     },
     "execution_count": 231,
     "metadata": {},
     "output_type": "execute_result"
    }
   ],
   "source": [
    "matrix_array"
   ]
  },
  {
   "cell_type": "code",
   "execution_count": 68,
   "id": "d80cf9be",
   "metadata": {},
   "outputs": [
    {
     "data": {
      "text/plain": [
       "array([[False, False, False],\n",
       "       [ True,  True,  True],\n",
       "       [ True,  True,  True],\n",
       "       [ True,  True,  True]])"
      ]
     },
     "execution_count": 68,
     "metadata": {},
     "output_type": "execute_result"
    }
   ],
   "source": [
    "#format: array_name [ list_of_booleans ]\n",
    "mask = matrix_array > 3\n",
    "mask"
   ]
  },
  {
   "cell_type": "code",
   "execution_count": 69,
   "id": "2c26d11f",
   "metadata": {},
   "outputs": [
    {
     "data": {
      "text/plain": [
       "array([ 4,  5,  6,  7,  8,  9, 10, 11, 12])"
      ]
     },
     "execution_count": 69,
     "metadata": {},
     "output_type": "execute_result"
    }
   ],
   "source": [
    "matrix_array[mask]\n",
    "# using a mask on a matrix will return a flatened list of elements"
   ]
  },
  {
   "cell_type": "markdown",
   "id": "4805d484",
   "metadata": {},
   "source": [
    "#### cool! can we just do it with a list instead of an array?"
   ]
  },
  {
   "cell_type": "code",
   "execution_count": 71,
   "id": "b65d82b5",
   "metadata": {},
   "outputs": [
    {
     "data": {
      "text/plain": [
       "[1, 2, 3, 4]"
      ]
     },
     "execution_count": 71,
     "metadata": {},
     "output_type": "execute_result"
    }
   ],
   "source": [
    "#pull back our initial list\n",
    "my_list"
   ]
  },
  {
   "cell_type": "code",
   "execution_count": 73,
   "id": "e6a379e7",
   "metadata": {},
   "outputs": [
    {
     "data": {
      "text/plain": [
       "False"
      ]
     },
     "execution_count": 73,
     "metadata": {},
     "output_type": "execute_result"
    }
   ],
   "source": [
    "#create a array of booleans\n",
    "my_list == 2\n",
    "# cannot compare elements in a list in order to create a list of bools\n",
    "# like we can with an array"
   ]
  },
  {
   "cell_type": "code",
   "execution_count": 76,
   "id": "bc6ac5fc",
   "metadata": {},
   "outputs": [
    {
     "data": {
      "text/plain": [
       "array([ True,  True,  True, False])"
      ]
     },
     "execution_count": 76,
     "metadata": {},
     "output_type": "execute_result"
    }
   ],
   "source": [
    "#apply an array of booleans to a list\n",
    "mask"
   ]
  },
  {
   "cell_type": "code",
   "execution_count": 77,
   "id": "f404e899",
   "metadata": {},
   "outputs": [
    {
     "ename": "TypeError",
     "evalue": "only integer scalar arrays can be converted to a scalar index",
     "output_type": "error",
     "traceback": [
      "\u001b[0;31m---------------------------------------------------------------------------\u001b[0m",
      "\u001b[0;31mTypeError\u001b[0m                                 Traceback (most recent call last)",
      "\u001b[0;32m/var/folders/49/v6sf5vy165dghytk4qv6jfhc0000gn/T/ipykernel_1181/513881256.py\u001b[0m in \u001b[0;36m<module>\u001b[0;34m\u001b[0m\n\u001b[0;32m----> 1\u001b[0;31m \u001b[0mmy_list\u001b[0m\u001b[0;34m[\u001b[0m\u001b[0mmask\u001b[0m\u001b[0;34m]\u001b[0m\u001b[0;34m\u001b[0m\u001b[0;34m\u001b[0m\u001b[0m\n\u001b[0m",
      "\u001b[0;31mTypeError\u001b[0m: only integer scalar arrays can be converted to a scalar index"
     ]
    }
   ],
   "source": [
    "# my_list[mask]\n",
    "#cannot use a mask on lists"
   ]
  },
  {
   "cell_type": "markdown",
   "id": "cd1f7110",
   "metadata": {},
   "source": [
    "#### let's bring it back to arrays and make them bigger"
   ]
  },
  {
   "cell_type": "code",
   "execution_count": 81,
   "id": "de0909a1",
   "metadata": {},
   "outputs": [
    {
     "data": {
      "text/plain": [
       "array([  1,   2,   3,   4,   5,   6,   7,   8,   9,  10,  11,  12,  13,\n",
       "        14,  15,  16,  17,  18,  19,  20,  21,  22,  23,  24,  25,  26,\n",
       "        27,  28,  29,  30,  31,  32,  33,  34,  35,  36,  37,  38,  39,\n",
       "        40,  41,  42,  43,  44,  45,  46,  47,  48,  49,  50,  51,  52,\n",
       "        53,  54,  55,  56,  57,  58,  59,  60,  61,  62,  63,  64,  65,\n",
       "        66,  67,  68,  69,  70,  71,  72,  73,  74,  75,  76,  77,  78,\n",
       "        79,  80,  81,  82,  83,  84,  85,  86,  87,  88,  89,  90,  91,\n",
       "        92,  93,  94,  95,  96,  97,  98,  99, 100])"
      ]
     },
     "execution_count": 81,
     "metadata": {},
     "output_type": "execute_result"
    }
   ],
   "source": [
    "#array\n",
    "a"
   ]
  },
  {
   "cell_type": "code",
   "execution_count": 82,
   "id": "9cb7e08d",
   "metadata": {},
   "outputs": [
    {
     "data": {
      "text/plain": [
       "array([False, False, False, False, False, False, False, False, False,\n",
       "       False, False, False, False, False, False, False, False, False,\n",
       "       False, False, False, False, False, False, False, False, False,\n",
       "       False, False, False, False, False, False, False, False, False,\n",
       "       False, False, False, False, False, False, False, False, False,\n",
       "       False,  True, False,  True, False,  True, False,  True, False,\n",
       "        True, False,  True, False,  True, False,  True, False,  True,\n",
       "       False,  True, False,  True, False,  True, False,  True, False,\n",
       "        True, False,  True, False,  True, False,  True, False,  True,\n",
       "       False,  True, False,  True, False,  True, False,  True, False,\n",
       "        True, False,  True, False,  True, False,  True, False,  True,\n",
       "       False])"
      ]
     },
     "execution_count": 82,
     "metadata": {},
     "output_type": "execute_result"
    }
   ],
   "source": [
    "#mask\n",
    "mask_a"
   ]
  },
  {
   "cell_type": "code",
   "execution_count": 83,
   "id": "1ef146a4",
   "metadata": {},
   "outputs": [
    {
     "data": {
      "text/plain": [
       "array([47, 49, 51, 53, 55, 57, 59, 61, 63, 65, 67, 69, 71, 73, 75, 77, 79,\n",
       "       81, 83, 85, 87, 89, 91, 93, 95, 97, 99])"
      ]
     },
     "execution_count": 83,
     "metadata": {},
     "output_type": "execute_result"
    }
   ],
   "source": [
    "#boolean mask\n",
    "a[mask_a]"
   ]
  },
  {
   "cell_type": "markdown",
   "id": "e3050b98",
   "metadata": {},
   "source": [
    "#### shortcut?"
   ]
  },
  {
   "cell_type": "code",
   "execution_count": 85,
   "id": "015bdcc5",
   "metadata": {},
   "outputs": [
    {
     "data": {
      "text/plain": [
       "array([47, 49, 51, 53, 55, 57, 59, 61, 63, 65, 67, 69, 71, 73, 75, 77, 79,\n",
       "       81, 83, 85, 87, 89, 91, 93, 95, 97, 99])"
      ]
     },
     "execution_count": 85,
     "metadata": {},
     "output_type": "execute_result"
    }
   ],
   "source": [
    "a[(a % 2 == 1) & (a > 45)]\n",
    "# we can use the conditionals directly with the array\n",
    "# instead of using a mask\n",
    "# if we want to"
   ]
  },
  {
   "cell_type": "markdown",
   "id": "d64aa50b",
   "metadata": {},
   "source": [
    "#### what if we wanted to check two conditions?"
   ]
  },
  {
   "cell_type": "code",
   "execution_count": 87,
   "id": "462d2571",
   "metadata": {},
   "outputs": [],
   "source": [
    "# note the parenthesis\n",
    "# also note that we're using & instead of and\n",
    "mask_a = (a % 2 == 1) & (a > 45) | (a < 5)"
   ]
  },
  {
   "cell_type": "code",
   "execution_count": 88,
   "id": "112c086e",
   "metadata": {},
   "outputs": [
    {
     "data": {
      "text/plain": [
       "array([ True,  True,  True,  True, False, False, False, False, False,\n",
       "       False, False, False, False, False, False, False, False, False,\n",
       "       False, False, False, False, False, False, False, False, False,\n",
       "       False, False, False, False, False, False, False, False, False,\n",
       "       False, False, False, False, False, False, False, False, False,\n",
       "       False,  True, False,  True, False,  True, False,  True, False,\n",
       "        True, False,  True, False,  True, False,  True, False,  True,\n",
       "       False,  True, False,  True, False,  True, False,  True, False,\n",
       "        True, False,  True, False,  True, False,  True, False,  True,\n",
       "       False,  True, False,  True, False,  True, False,  True, False,\n",
       "        True, False,  True, False,  True, False,  True, False,  True,\n",
       "       False])"
      ]
     },
     "execution_count": 88,
     "metadata": {},
     "output_type": "execute_result"
    }
   ],
   "source": [
    "mask_a"
   ]
  },
  {
   "cell_type": "markdown",
   "id": "38b59f1e",
   "metadata": {},
   "source": [
    "#### what if we wanted the opposite of our mask?"
   ]
  },
  {
   "cell_type": "code",
   "execution_count": 89,
   "id": "ce8d8633",
   "metadata": {},
   "outputs": [
    {
     "data": {
      "text/plain": [
       "array([ True,  True,  True,  True, False, False, False, False, False,\n",
       "       False, False, False, False, False, False, False, False, False,\n",
       "       False, False, False, False, False, False, False, False, False,\n",
       "       False, False, False, False, False, False, False, False, False,\n",
       "       False, False, False, False, False, False, False, False, False,\n",
       "       False,  True, False,  True, False,  True, False,  True, False,\n",
       "        True, False,  True, False,  True, False,  True, False,  True,\n",
       "       False,  True, False,  True, False,  True, False,  True, False,\n",
       "        True, False,  True, False,  True, False,  True, False,  True,\n",
       "       False,  True, False,  True, False,  True, False,  True, False,\n",
       "        True, False,  True, False,  True, False,  True, False,  True,\n",
       "       False])"
      ]
     },
     "execution_count": 89,
     "metadata": {},
     "output_type": "execute_result"
    }
   ],
   "source": [
    "mask_a"
   ]
  },
  {
   "cell_type": "code",
   "execution_count": 91,
   "id": "127e6506",
   "metadata": {},
   "outputs": [
    {
     "data": {
      "text/plain": [
       "array([False, False, False, False,  True,  True,  True,  True,  True,\n",
       "        True,  True,  True,  True,  True,  True,  True,  True,  True,\n",
       "        True,  True,  True,  True,  True,  True,  True,  True,  True,\n",
       "        True,  True,  True,  True,  True,  True,  True,  True,  True,\n",
       "        True,  True,  True,  True,  True,  True,  True,  True,  True,\n",
       "        True, False,  True, False,  True, False,  True, False,  True,\n",
       "       False,  True, False,  True, False,  True, False,  True, False,\n",
       "        True, False,  True, False,  True, False,  True, False,  True,\n",
       "       False,  True, False,  True, False,  True, False,  True, False,\n",
       "        True, False,  True, False,  True, False,  True, False,  True,\n",
       "       False,  True, False,  True, False,  True, False,  True, False,\n",
       "        True])"
      ]
     },
     "execution_count": 91,
     "metadata": {},
     "output_type": "execute_result"
    }
   ],
   "source": [
    "# the ~ notates the opposite of\n",
    "~mask_a"
   ]
  },
  {
   "cell_type": "code",
   "execution_count": 92,
   "id": "4346c3ac",
   "metadata": {},
   "outputs": [
    {
     "data": {
      "text/plain": [
       "array([  5,   6,   7,   8,   9,  10,  11,  12,  13,  14,  15,  16,  17,\n",
       "        18,  19,  20,  21,  22,  23,  24,  25,  26,  27,  28,  29,  30,\n",
       "        31,  32,  33,  34,  35,  36,  37,  38,  39,  40,  41,  42,  43,\n",
       "        44,  45,  46,  48,  50,  52,  54,  56,  58,  60,  62,  64,  66,\n",
       "        68,  70,  72,  74,  76,  78,  80,  82,  84,  86,  88,  90,  92,\n",
       "        94,  96,  98, 100])"
      ]
     },
     "execution_count": 92,
     "metadata": {},
     "output_type": "execute_result"
    }
   ],
   "source": [
    "a[~mask_a]"
   ]
  },
  {
   "cell_type": "markdown",
   "id": "medium-generation",
   "metadata": {},
   "source": [
    "## Vectorization Operations\n",
    "- makes looping over math so easy and fast!"
   ]
  },
  {
   "cell_type": "markdown",
   "id": "a8e224de",
   "metadata": {},
   "source": [
    "### Add one to every element"
   ]
  },
  {
   "cell_type": "markdown",
   "id": "b9efeafd",
   "metadata": {},
   "source": [
    "#### hard way: doing it in a list"
   ]
  },
  {
   "cell_type": "code",
   "execution_count": 93,
   "id": "258f1d5d",
   "metadata": {},
   "outputs": [
    {
     "data": {
      "text/plain": [
       "[1, 2, 3, 4]"
      ]
     },
     "execution_count": 93,
     "metadata": {},
     "output_type": "execute_result"
    }
   ],
   "source": [
    "my_list"
   ]
  },
  {
   "cell_type": "code",
   "execution_count": 96,
   "id": "7cef8ab3",
   "metadata": {},
   "outputs": [
    {
     "data": {
      "text/plain": [
       "[2, 3, 4, 5]"
      ]
     },
     "execution_count": 96,
     "metadata": {},
     "output_type": "execute_result"
    }
   ],
   "source": [
    "#using a for loop\n",
    "new_list = []\n",
    "for x in my_list:\n",
    "    new_list.append(x + 1)\n",
    "new_list"
   ]
  },
  {
   "cell_type": "code",
   "execution_count": 97,
   "id": "1c68aba0",
   "metadata": {},
   "outputs": [
    {
     "data": {
      "text/plain": [
       "[2, 3, 4, 5]"
      ]
     },
     "execution_count": 97,
     "metadata": {},
     "output_type": "execute_result"
    }
   ],
   "source": [
    "#using a list comprehension\n",
    "new_list = [x + 1 for x in my_list]\n",
    "new_list"
   ]
  },
  {
   "cell_type": "markdown",
   "id": "8779aafd",
   "metadata": {},
   "source": [
    "#### easy way: doing it with an array"
   ]
  },
  {
   "cell_type": "code",
   "execution_count": 98,
   "id": "09dd6656",
   "metadata": {},
   "outputs": [
    {
     "data": {
      "text/plain": [
       "array([1, 2, 3, 4])"
      ]
     },
     "execution_count": 98,
     "metadata": {},
     "output_type": "execute_result"
    }
   ],
   "source": [
    "my_array"
   ]
  },
  {
   "cell_type": "code",
   "execution_count": 99,
   "id": "9b4f67fe",
   "metadata": {},
   "outputs": [
    {
     "data": {
      "text/plain": [
       "array([2, 3, 4, 5])"
      ]
     },
     "execution_count": 99,
     "metadata": {},
     "output_type": "execute_result"
    }
   ],
   "source": [
    "#using vectorization operations\n",
    "my_array + 1"
   ]
  },
  {
   "cell_type": "markdown",
   "id": "bb911800",
   "metadata": {},
   "source": [
    "### more operations"
   ]
  },
  {
   "cell_type": "code",
   "execution_count": 100,
   "id": "50157e4d",
   "metadata": {},
   "outputs": [
    {
     "data": {
      "text/plain": [
       "array([2, 4, 6, 8])"
      ]
     },
     "execution_count": 100,
     "metadata": {},
     "output_type": "execute_result"
    }
   ],
   "source": [
    "my_array * 2"
   ]
  },
  {
   "cell_type": "code",
   "execution_count": 101,
   "id": "274f42c3",
   "metadata": {},
   "outputs": [
    {
     "data": {
      "text/plain": [
       "array([ 1,  4,  9, 16])"
      ]
     },
     "execution_count": 101,
     "metadata": {},
     "output_type": "execute_result"
    }
   ],
   "source": [
    "my_array ** 2"
   ]
  },
  {
   "cell_type": "code",
   "execution_count": 102,
   "id": "07cab80d",
   "metadata": {},
   "outputs": [
    {
     "data": {
      "text/plain": [
       "10"
      ]
     },
     "execution_count": 102,
     "metadata": {},
     "output_type": "execute_result"
    }
   ],
   "source": [
    "my_array.sum()"
   ]
  },
  {
   "cell_type": "code",
   "execution_count": 103,
   "id": "12d58f74",
   "metadata": {},
   "outputs": [
    {
     "data": {
      "text/plain": [
       "array([0.1, 0.2, 0.3, 0.4])"
      ]
     },
     "execution_count": 103,
     "metadata": {},
     "output_type": "execute_result"
    }
   ],
   "source": [
    "my_array / 10"
   ]
  },
  {
   "cell_type": "code",
   "execution_count": 104,
   "id": "f3cf053a",
   "metadata": {},
   "outputs": [
    {
     "data": {
      "text/plain": [
       "array([0.        , 0.69314718, 1.09861229, 1.38629436])"
      ]
     },
     "execution_count": 104,
     "metadata": {},
     "output_type": "execute_result"
    }
   ],
   "source": [
    "np.log(my_array)"
   ]
  },
  {
   "cell_type": "markdown",
   "id": "ad53f0e1",
   "metadata": {},
   "source": [
    "### show us the speed"
   ]
  },
  {
   "cell_type": "code",
   "execution_count": 107,
   "id": "63d7b8d4",
   "metadata": {},
   "outputs": [
    {
     "data": {
      "text/plain": [
       "array([      0,       1,       2, ...,  999998,  999999, 1000000])"
      ]
     },
     "execution_count": 107,
     "metadata": {},
     "output_type": "execute_result"
    }
   ],
   "source": [
    "#make a really big array\n",
    "big_array = np.array(range(1_000_001))\n",
    "big_array\n",
    "#we can use '_' instead of a comma in large numbers"
   ]
  },
  {
   "cell_type": "code",
   "execution_count": 114,
   "id": "414f9834",
   "metadata": {},
   "outputs": [
    {
     "name": "stdout",
     "output_type": "stream",
     "text": [
      "304 µs ± 388 ns per loop (mean ± std. dev. of 7 runs, 1000 loops each)\n"
     ]
    }
   ],
   "source": [
    "%%timeit\n",
    "# %%timeit MUST BE PLACED AT TOP OF CELL\n",
    "# will run the function 1000 times and take measurements of the time to run\n",
    "big_array ** 2"
   ]
  },
  {
   "cell_type": "code",
   "execution_count": 115,
   "id": "05bc1ff7",
   "metadata": {},
   "outputs": [
    {
     "data": {
      "text/plain": [
       "[0, 1, 2, 3, 4, 5, 6, 7, 8, 9]"
      ]
     },
     "execution_count": 115,
     "metadata": {},
     "output_type": "execute_result"
    }
   ],
   "source": [
    "#make a really big list\n",
    "big_list = list(big_array)\n",
    "big_list[:10]"
   ]
  },
  {
   "cell_type": "code",
   "execution_count": 116,
   "id": "1e526fdb",
   "metadata": {},
   "outputs": [
    {
     "name": "stdout",
     "output_type": "stream",
     "text": [
      "124 ms ± 756 µs per loop (mean ± std. dev. of 7 runs, 10 loops each)\n"
     ]
    }
   ],
   "source": [
    "%%timeit\n",
    "for x in big_list:\n",
    "    x ** 2"
   ]
  },
  {
   "cell_type": "markdown",
   "id": "bfad6773",
   "metadata": {},
   "source": [
    "time for same function is measured in micro seconds when in array form\n",
    "milliseconds when in list form\n",
    "\n",
    "micro is smaller time than milli"
   ]
  },
  {
   "cell_type": "markdown",
   "id": "1ab1109d",
   "metadata": {},
   "source": [
    "## Numpy ways to create arrays"
   ]
  },
  {
   "cell_type": "markdown",
   "id": "fbdf8824",
   "metadata": {},
   "source": [
    "#### full of zeros"
   ]
  },
  {
   "cell_type": "code",
   "execution_count": 119,
   "id": "6df78629",
   "metadata": {},
   "outputs": [
    {
     "data": {
      "text/plain": [
       "array([[0., 0.],\n",
       "       [0., 0.],\n",
       "       [0., 0.],\n",
       "       [0., 0.],\n",
       "       [0., 0.],\n",
       "       [0., 0.],\n",
       "       [0., 0.],\n",
       "       [0., 0.],\n",
       "       [0., 0.],\n",
       "       [0., 0.]])"
      ]
     },
     "execution_count": 119,
     "metadata": {},
     "output_type": "execute_result"
    }
   ],
   "source": [
    "np.zeros((10,2))"
   ]
  },
  {
   "cell_type": "markdown",
   "id": "d2e1999c",
   "metadata": {},
   "source": [
    "#### full of ones"
   ]
  },
  {
   "cell_type": "code",
   "execution_count": 126,
   "id": "f5896975",
   "metadata": {},
   "outputs": [
    {
     "data": {
      "text/plain": [
       "array([[1., 1.],\n",
       "       [1., 1.],\n",
       "       [1., 1.],\n",
       "       [1., 1.],\n",
       "       [1., 1.],\n",
       "       [1., 1.],\n",
       "       [1., 1.],\n",
       "       [1., 1.],\n",
       "       [1., 1.],\n",
       "       [1., 1.]])"
      ]
     },
     "execution_count": 126,
     "metadata": {},
     "output_type": "execute_result"
    }
   ],
   "source": [
    "np.ones((10,2))"
   ]
  },
  {
   "cell_type": "markdown",
   "id": "485d5479",
   "metadata": {},
   "source": [
    "#### full of whatever you want "
   ]
  },
  {
   "cell_type": "code",
   "execution_count": 127,
   "id": "380d5efa",
   "metadata": {},
   "outputs": [
    {
     "data": {
      "text/plain": [
       "array([3, 3, 3, 3, 3, 3, 3, 3, 3, 3])"
      ]
     },
     "execution_count": 127,
     "metadata": {},
     "output_type": "execute_result"
    }
   ],
   "source": [
    "np.full(10, 3)"
   ]
  },
  {
   "cell_type": "code",
   "execution_count": 128,
   "id": "6a755ddf",
   "metadata": {},
   "outputs": [
    {
     "data": {
      "text/plain": [
       "array([['potatoes', 'potatoes'],\n",
       "       ['potatoes', 'potatoes'],\n",
       "       ['potatoes', 'potatoes'],\n",
       "       ['potatoes', 'potatoes'],\n",
       "       ['potatoes', 'potatoes'],\n",
       "       ['potatoes', 'potatoes'],\n",
       "       ['potatoes', 'potatoes'],\n",
       "       ['potatoes', 'potatoes'],\n",
       "       ['potatoes', 'potatoes'],\n",
       "       ['potatoes', 'potatoes']], dtype='<U8')"
      ]
     },
     "execution_count": 128,
     "metadata": {},
     "output_type": "execute_result"
    }
   ],
   "source": [
    "np.full((10,2), 'potatoes')"
   ]
  },
  {
   "cell_type": "markdown",
   "id": "19d0e8dc",
   "metadata": {},
   "source": [
    "#### a quicker way to make a range"
   ]
  },
  {
   "cell_type": "code",
   "execution_count": 129,
   "id": "5f6894ed",
   "metadata": {},
   "outputs": [
    {
     "data": {
      "text/plain": [
       "array([0, 1, 2, 3, 4, 5, 6, 7, 8, 9])"
      ]
     },
     "execution_count": 129,
     "metadata": {},
     "output_type": "execute_result"
    }
   ],
   "source": [
    "np.array(range(10))"
   ]
  },
  {
   "cell_type": "code",
   "execution_count": 130,
   "id": "22e7120b",
   "metadata": {},
   "outputs": [
    {
     "data": {
      "text/plain": [
       "array([0, 1, 2, 3, 4, 5, 6, 7, 8, 9])"
      ]
     },
     "execution_count": 130,
     "metadata": {},
     "output_type": "execute_result"
    }
   ],
   "source": [
    "np.arange(10)"
   ]
  },
  {
   "cell_type": "code",
   "execution_count": 131,
   "id": "b9f05374",
   "metadata": {},
   "outputs": [
    {
     "data": {
      "text/plain": [
       "array([ 1,  2,  3,  4,  5,  6,  7,  8,  9, 10])"
      ]
     },
     "execution_count": 131,
     "metadata": {},
     "output_type": "execute_result"
    }
   ],
   "source": [
    "np.arange(1,11)"
   ]
  },
  {
   "cell_type": "markdown",
   "id": "ae2ed3b1",
   "metadata": {},
   "source": [
    "#### an array of random integers"
   ]
  },
  {
   "cell_type": "code",
   "execution_count": 149,
   "id": "f49323ae",
   "metadata": {},
   "outputs": [
    {
     "data": {
      "text/plain": [
       "array([[11, 17],\n",
       "       [10, 17],\n",
       "       [12, 15],\n",
       "       [17,  9],\n",
       "       [19,  2],\n",
       "       [ 9,  4],\n",
       "       [ 6, 15],\n",
       "       [ 8,  9],\n",
       "       [18,  4],\n",
       "       [ 4, 10]])"
      ]
     },
     "execution_count": 149,
     "metadata": {},
     "output_type": "execute_result"
    }
   ],
   "source": [
    "#np.random.randint()\n",
    "np.random.randint(2,20, (10,2))"
   ]
  },
  {
   "cell_type": "markdown",
   "id": "c7c783ac",
   "metadata": {},
   "source": [
    "#### an array of random numbers from the standard distribution"
   ]
  },
  {
   "cell_type": "code",
   "execution_count": 151,
   "id": "75c49dda",
   "metadata": {},
   "outputs": [
    {
     "data": {
      "text/plain": [
       "array([ 1.02805998,  0.44411574, -2.01506853, -1.248447  ,  0.240254  ,\n",
       "        0.30909566,  0.94522352, -0.85389088, -0.36900442, -0.4490035 ,\n",
       "       -0.38257231, -0.23248478,  0.77923316, -0.28033456,  0.39541151,\n",
       "       -0.20929846,  1.21672297,  0.25391834, -1.31175197, -1.67255218,\n",
       "       -0.29158426,  0.46060021, -0.99140659,  1.62906217, -0.95049762,\n",
       "        0.64791528,  1.69050986, -0.43368545,  0.74428573,  0.46658786,\n",
       "        1.08040674,  0.39354229, -0.71947687, -0.53820099,  0.54771368,\n",
       "       -0.55231813, -1.12478478,  0.15222159, -1.1221237 ,  2.23337928,\n",
       "       -1.00007001,  0.18893229, -0.48631568,  0.08838188, -0.21984402,\n",
       "       -0.31350461,  0.8852991 ,  0.87415048, -1.14003618,  0.46323907,\n",
       "       -0.02582967,  1.30148765, -0.85935591,  0.24374143,  0.26397985,\n",
       "        1.42059601,  0.02176853,  0.15735547,  1.24166203,  0.24054499,\n",
       "        0.15865615,  0.42650407,  1.7892787 , -2.09954327,  0.94165632,\n",
       "       -1.04912245, -0.96440831, -1.07294447, -0.92421473, -0.84914396,\n",
       "        1.66620797,  1.22457919, -0.55346482, -0.45106698,  0.98161167,\n",
       "       -0.4202341 , -2.17523563, -0.14643264, -0.27836367, -0.89414791,\n",
       "        0.42456228,  0.50739125,  1.06819032,  1.30298041, -1.28645505,\n",
       "        0.13330713,  0.59634944,  0.27300781, -0.4950551 ,  0.37801568,\n",
       "       -0.42911969, -0.88293885, -0.41665139,  0.76645295,  1.13500736,\n",
       "       -0.41763467, -2.18620214, -1.1879188 ,  0.26552153, -0.00251822])"
      ]
     },
     "execution_count": 151,
     "metadata": {},
     "output_type": "execute_result"
    }
   ],
   "source": [
    "np.random.randn(100)\n",
    "# numbers chosen randomly from standard distribution curve\n",
    "# "
   ]
  }
 ],
 "metadata": {
  "kernelspec": {
   "display_name": "Python 3 (ipykernel)",
   "language": "python",
   "name": "python3"
  },
  "language_info": {
   "codemirror_mode": {
    "name": "ipython",
    "version": 3
   },
   "file_extension": ".py",
   "mimetype": "text/x-python",
   "name": "python",
   "nbconvert_exporter": "python",
   "pygments_lexer": "ipython3",
   "version": "3.9.13"
  }
 },
 "nbformat": 4,
 "nbformat_minor": 5
}
